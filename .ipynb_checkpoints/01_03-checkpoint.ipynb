{
 "cells": [
  {
   "cell_type": "markdown",
   "metadata": {},
   "source": [
    "#### Removing Duplicates."
   ]
  },
  {
   "cell_type": "code",
   "execution_count": null,
   "metadata": {},
   "outputs": [],
   "source": [
    "import numpy as np\n",
    "import pandas as pd\n",
    "\n",
    "from pandas import Series, DataFrame\n"
   ]
  },
  {
   "cell_type": "code",
   "execution_count": null,
   "metadata": {},
   "outputs": [],
   "source": [
    "DF_obj = DataFrame({\n",
    "    'column 1': [1, 1, 2, 2, 3, 3, 3],\n",
    "    'column 2': ['a', 'a', 'b', 'b', 'c', 'c', 'c'],\n",
    "    'column 3': ['A', 'A', 'B', 'B', 'C', 'C', 'C']\n",
    "})\n",
    "DF_obj"
   ]
  },
  {
   "cell_type": "code",
   "execution_count": null,
   "metadata": {},
   "outputs": [],
   "source": [
    "# duplicated is the method which will return True/False\n",
    "DF_obj.duplicated()"
   ]
  },
  {
   "cell_type": "code",
   "execution_count": null,
   "metadata": {},
   "outputs": [],
   "source": [
    "# droping the duplicated values.\n",
    "# drop_duplicates()\n",
    "DF_obj.drop_duplicates()"
   ]
  },
  {
   "cell_type": "code",
   "execution_count": null,
   "metadata": {},
   "outputs": [],
   "source": [
    "# Removing duplicates which has specific column duplicates\n",
    "DF_obj = DataFrame({\n",
    "    'column 1': [1, 1, 2, 2, 3, 3, 3],\n",
    "    'column 2': ['a', 'a', 'b', 'b', 'c', 'c', 'c'],\n",
    "    'column 3': ['A', 'A', 'B', 'B', 'C', 'C', 'C']\n",
    "})\n",
    "DF_obj"
   ]
  },
  {
   "cell_type": "code",
   "execution_count": null,
   "metadata": {},
   "outputs": [],
   "source": [
    "DF_obj.drop_duplicates(['column 3'])"
   ]
  }
 ],
 "metadata": {
  "kernelspec": {
   "display_name": "Python 2",
   "language": "python",
   "name": "python2"
  },
  "language_info": {
   "codemirror_mode": {
    "name": "ipython",
    "version": 3
   },
   "file_extension": ".py",
   "mimetype": "text/x-python",
   "name": "python",
   "nbconvert_exporter": "python",
   "pygments_lexer": "ipython3",
   "version": "3.5.2"
  }
 },
 "nbformat": 4,
 "nbformat_minor": 2
}
