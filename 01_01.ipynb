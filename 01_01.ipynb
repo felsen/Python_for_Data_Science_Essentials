{
 "cells": [
  {
   "cell_type": "code",
   "execution_count": null,
   "metadata": {},
   "outputs": [],
   "source": [
    "# Pandas and Numpy Exercise.\n",
    "import numpy as np\n",
    "import pandas as pb\n",
    "\n",
    "from pandas import Series, DataFrame"
   ]
  },
  {
   "cell_type": "markdown",
   "metadata": {},
   "source": [
    "#### Selecting and Retrieving Data"
   ]
  },
  {
   "cell_type": "code",
   "execution_count": null,
   "metadata": {},
   "outputs": [],
   "source": [
    "series_obj = Series(np.arange(8), index=[\"row 1\", \"row 2\", \"row 3\", \"row 4\", \"row 5\", \"row 6\", \"row 7\", \"row 8\"])\n",
    "series_obj"
   ]
  },
  {
   "cell_type": "code",
   "execution_count": null,
   "metadata": {},
   "outputs": [],
   "source": [
    "# [label index]\n",
    "# label index is just selecting the row by using label.\n",
    "series_obj['row 3']"
   ]
  },
  {
   "cell_type": "code",
   "execution_count": null,
   "metadata": {},
   "outputs": [],
   "source": [
    "# [integer index]\n",
    "# indeger index is used select the series of the elements.\n",
    "series_obj[[0, 4]]"
   ]
  },
  {
   "cell_type": "code",
   "execution_count": null,
   "metadata": {},
   "outputs": [],
   "source": [
    "# special index object_name.ix[[row_indexes], [column_indexes]]\n",
    "# reshape is the special method will form the nested series of the given row and column.\n",
    "np.random.seed(25)\n",
    "DF_obj = DataFrame(np.random.rand(36).reshape(6, 6), index=[\"row 1\", \"row 2\", \"row 3\", \"row 4\", \"row 5\", \"row 6\"],\n",
    "                   columns=[\"column 1\", \"column 2\", \"column 3\", \"column 4\", \"column 5\", \"column 6\"])\n",
    "DF_obj"
   ]
  },
  {
   "cell_type": "code",
   "execution_count": null,
   "metadata": {},
   "outputs": [],
   "source": [
    "# special index can work with Data Frame or Series Object.\n",
    "# object_name.ix is deprecated in latest version of pandas so need to use loc(this is for label indexing) or\n",
    "# iloc(this is for positional indexing).\n",
    "DF_obj.loc[['row 3', 'row 6'], ['column 3', 'column 5']]"
   ]
  },
  {
   "cell_type": "code",
   "execution_count": null,
   "metadata": {},
   "outputs": [],
   "source": [
    "# Data Slicing\n",
    "# DF_obj[starting_label_index: ending_lable_index] or Series obj\n",
    "print(series_obj['row 3': 'row 5'])\n",
    "DF_obj['row 2': 'row 5']"
   ]
  },
  {
   "cell_type": "code",
   "execution_count": null,
   "metadata": {},
   "outputs": [],
   "source": [
    "# comparision with scalers\n",
    "# object_name < sclar_name\n",
    "# you can use comparision operator like (< or > or <= or >=), will return True or False for all the records.\n",
    "DF_obj < .2"
   ]
  },
  {
   "cell_type": "code",
   "execution_count": null,
   "metadata": {},
   "outputs": [],
   "source": [
    "# for specific row and column\n",
    "print(DF_obj.loc[['row 2', 'row 5'], ['column 3', 'column 6']] < .3)\n",
    "print('-----------------------------------------------------------------')\n",
    "print(DF_obj.loc[['row 2', 'row 5'], []] < .3)\n",
    "print('-----------------------------------------------------------------')\n",
    "print(DF_obj.loc[['row 2', 'row 5']] < .3)"
   ]
  },
  {
   "cell_type": "code",
   "execution_count": null,
   "metadata": {},
   "outputs": [],
   "source": [
    "# filtering with scalars.\n",
    "# What is sclar? A quantity which has magnitude, not direction.\n",
    "# what is vector? A quantity which has magnitude, and direction from one point to another.\n",
    "series_obj[series_obj > 5]"
   ]
  },
  {
   "cell_type": "code",
   "execution_count": null,
   "metadata": {},
   "outputs": [],
   "source": [
    "# Setting values with Scalars.\n",
    "# Setting common values for all the three row's.\n",
    "series_obj['row 1', 'row 3', 'row 5'] = 8\n",
    "series_obj"
   ]
  },
  {
   "cell_type": "code",
   "execution_count": null,
   "metadata": {},
   "outputs": [],
   "source": [
    "# setting specific values for defined row's.\n",
    "series_obj['row 1', 'row 3', 'row 5'] = [1, 3, 5]\n",
    "series_obj"
   ]
  }
 ],
 "metadata": {
  "kernelspec": {
   "display_name": "Python 2",
   "language": "python",
   "name": "python2"
  },
  "language_info": {
   "codemirror_mode": {
    "name": "ipython",
    "version": 3
   },
   "file_extension": ".py",
   "mimetype": "text/x-python",
   "name": "python",
   "nbconvert_exporter": "python",
   "pygments_lexer": "ipython3",
   "version": "3.5.2"
  }
 },
 "nbformat": 4,
 "nbformat_minor": 2
}
